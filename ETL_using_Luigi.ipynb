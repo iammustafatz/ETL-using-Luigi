{
  "nbformat": 4,
  "nbformat_minor": 0,
  "metadata": {
    "colab": {
      "provenance": [],
      "collapsed_sections": [],
      "include_colab_link": true
    },
    "kernelspec": {
      "name": "python3",
      "display_name": "Python 3"
    },
    "language_info": {
      "name": "python"
    }
  },
  "cells": [
    {
      "cell_type": "markdown",
      "metadata": {
        "id": "view-in-github",
        "colab_type": "text"
      },
      "source": [
        "<a href=\"https://colab.research.google.com/github/iammustafatz/ETL-using-Luigi/blob/main/ETL_using_Luigi.ipynb\" target=\"_parent\"><img src=\"https://colab.research.google.com/assets/colab-badge.svg\" alt=\"Open In Colab\"/></a>"
      ]
    },
    {
      "cell_type": "markdown",
      "source": [
        "##Installation of Luigi"
      ],
      "metadata": {
        "id": "I9JxcO0459Xr"
      }
    },
    {
      "cell_type": "code",
      "execution_count": 35,
      "metadata": {
        "colab": {
          "base_uri": "https://localhost:8080/"
        },
        "id": "aiofEmcLqdrW",
        "outputId": "ebf859fa-3c51-43f5-cc96-0b644dace7de"
      },
      "outputs": [
        {
          "output_type": "stream",
          "name": "stdout",
          "text": [
            "Looking in indexes: https://pypi.org/simple, https://us-python.pkg.dev/colab-wheels/public/simple/\n",
            "Requirement already satisfied: luigi in /usr/local/lib/python3.7/dist-packages (3.1.1)\n",
            "Requirement already satisfied: tenacity<9,>=8 in /usr/local/lib/python3.7/dist-packages (from luigi) (8.1.0)\n",
            "Requirement already satisfied: tornado<7,>=5.0 in /usr/local/lib/python3.7/dist-packages (from luigi) (5.1.1)\n",
            "Requirement already satisfied: python-dateutil<3,>=2.7.5 in /usr/local/lib/python3.7/dist-packages (from luigi) (2.8.2)\n",
            "Requirement already satisfied: python-daemon in /usr/local/lib/python3.7/dist-packages (from luigi) (2.3.2)\n",
            "Requirement already satisfied: six>=1.5 in /usr/local/lib/python3.7/dist-packages (from python-dateutil<3,>=2.7.5->luigi) (1.15.0)\n",
            "Requirement already satisfied: lockfile>=0.10 in /usr/local/lib/python3.7/dist-packages (from python-daemon->luigi) (0.12.2)\n",
            "Requirement already satisfied: docutils in /usr/local/lib/python3.7/dist-packages (from python-daemon->luigi) (0.17.1)\n",
            "Requirement already satisfied: setuptools in /usr/local/lib/python3.7/dist-packages (from python-daemon->luigi) (57.4.0)\n"
          ]
        }
      ],
      "source": [
        "!pip install luigi"
      ]
    },
    {
      "cell_type": "markdown",
      "source": [
        "##Cloning the git repository to extract data"
      ],
      "metadata": {
        "id": "9ZiX957j6Ckb"
      }
    },
    {
      "cell_type": "code",
      "source": [
        "!git clone https://github.com/iammustafatz/ETL-using-Luigi.git"
      ],
      "metadata": {
        "colab": {
          "base_uri": "https://localhost:8080/"
        },
        "id": "FhtgAc9BGpBj",
        "outputId": "8d9d2dcc-880c-4faf-dabd-315d8a79e7bd"
      },
      "execution_count": 32,
      "outputs": [
        {
          "output_type": "stream",
          "name": "stdout",
          "text": [
            "Cloning into 'ETL-using-Luigi'...\n",
            "remote: Enumerating objects: 6, done.\u001b[K\n",
            "remote: Counting objects: 100% (6/6), done.\u001b[K\n",
            "remote: Compressing objects: 100% (4/4), done.\u001b[K\n",
            "remote: Total 6 (delta 0), reused 0 (delta 0), pack-reused 0\u001b[K\n",
            "Unpacking objects: 100% (6/6), done.\n"
          ]
        }
      ]
    },
    {
      "cell_type": "markdown",
      "source": [
        "##Luigi Pipeline"
      ],
      "metadata": {
        "id": "I3qHfGWw7OVN"
      }
    },
    {
      "cell_type": "code",
      "source": [
        "#importing libraries\n",
        "import pandas as pd\n",
        "import numpy as np\n",
        "import datetime as dt\n",
        "import luigi\n",
        "from pathlib import Path\n",
        "import sqlite3\n",
        "from sqlalchemy import create_engine\n",
        "\n",
        "#creating a sqlite db\n",
        "sqlite3.connect('my.db')\n",
        "#creating a sql engine\n",
        "engine=create_engine('sqlite:////content/my.db')\n",
        "\n",
        "#importing file paths\n",
        "file_path='/content/ETL-using-Luigi/train.csv' # path to fetch data\n",
        "OUTPUT_PATH = Path('/content')  #path to store data\n",
        "\n",
        "#function to impute numerical values where null values are present\n",
        "def impute_num(x):\n",
        "  numerical_cols=x.select_dtypes(include=np.number).columns.tolist() #extracting all numerical cols from the dataframe\n",
        "  numerical_cols_null_counter=x[numerical_cols].isna().sum().sort_values(ascending=False) #counting the no. of null values in those numerical cols\n",
        "  for a,b in numerical_cols_null_counter.items():  #col_name is taken as a and null value counts is taken as b\n",
        "    #imputing median value in-place of null values, for those null numerical cols  \n",
        "      if b>0:\n",
        "        m=np.nanmedian(x[a])\n",
        "        x[a].fillna(m,inplace=True)\n",
        "      else:\n",
        "        continue\n",
        "\n",
        "#function to impute categorical values where null values are present\n",
        "def impute_cat(x):\n",
        "  categorical_cols=x.select_dtypes(exclude=np.number).columns.tolist() #extracting all categorical cols from the dataframe\n",
        "  categorical_cols_null_counter=x[categorical_cols].isna().sum().sort_values(ascending=False) #counting the no. of null values in those categorical cols\n",
        "  for a,b in categorical_cols_null_counter.items():  #col_name is taken as a and null value counts is taken as b\n",
        "    #imputing mode value in-place of null values, for those null categorical cols  \n",
        "    if b>0:\n",
        "        m=x[a].mode()[0]\n",
        "        x[a].fillna(m,inplace=True)\n",
        "    else:\n",
        "      continue\n",
        "\n",
        "class Extract(luigi.Task):\n",
        "    \n",
        "    #date parameter - to handle filename with date in luigi tasks\n",
        "    date = luigi.DateParameter(default=dt.date.today())\n",
        "\n",
        "    #path of the extracted file\n",
        "    def output(self):\n",
        "        return luigi.LocalTarget(OUTPUT_PATH/f'extracted_train_{self.date}.csv')\n",
        "\n",
        "    def run(self):\n",
        "      #reading the data from input path\n",
        "      data=pd.read_csv(file_path)\n",
        "      #stroring extracted data as csv in output path\n",
        "      data.to_csv(self.output().path, index=False)\n",
        "\n",
        "        \n",
        "class Transform(luigi.Task):\n",
        "    \n",
        "    date = luigi.DateParameter(default=dt.date.today())\n",
        "    \n",
        "    def requires(self):\n",
        "        # Passing the luigi paramater back to upstream task\n",
        "        return Extract(self.date) \n",
        "\n",
        "    #path of the transformed file       \n",
        "    def output(self):\n",
        "        return luigi.LocalTarget(OUTPUT_PATH/f'transformed_train_{self.date}.csv')\n",
        "\n",
        "    def run(self):\n",
        "      #reading the extracted data\n",
        "      extracted_data=pd.read_csv(self.input().path)\n",
        "      #getting the no. of null values in each column\n",
        "      total = extracted_data.isnull().sum().sort_values(ascending=False)\n",
        "      #getting percentage of null values counts in each column\n",
        "      percent = ((extracted_data.isnull().sum()/extracted_data.isnull().count())*100).sort_values(ascending=False)\n",
        "      #merging total and percent data\n",
        "      missing_data = pd.concat([total, percent], axis=1, keys=['Total', 'Percent'])\n",
        "      #getting columns that have more than 80% of null values and deleting them\n",
        "      nd=missing_data[missing_data['Percent']>80]\n",
        "      a=[]\n",
        "      for i in nd.index:\n",
        "        a+=[i]\n",
        "      extracted_data.drop(a,axis=1,inplace=True)\n",
        "      #calling the impute_num function\n",
        "      impute_num(extracted_data)\n",
        "      #imputing 'None' value in 'MasVnrType' column, as it has value named 'None'\n",
        "      extracted_data['MasVnrType'].fillna('None',inplace=True)\n",
        "      #calling the impute_cat function\n",
        "      impute_cat(extracted_data)\n",
        "      #stroring transformed data as csv in output path\n",
        "      extracted_data.to_csv(self.output().path, index=False)\n",
        "\n",
        "class Load(luigi.Task):\n",
        "    \n",
        "    date = luigi.DateParameter(default=dt.date.today())\n",
        "    \n",
        "    def requires(self):\n",
        "        # Passing the luigi paramater back to upstream task\n",
        "        return Transform(self.date) \n",
        "\n",
        "    #path of the load/output file       \n",
        "    def output(self):\n",
        "        pass\n",
        "\n",
        "    def run(self):\n",
        "      #reading the transformed data\n",
        "      transformed_data=pd.read_csv(self.input().path)\n",
        "      #loading output data as csv in output path\n",
        "      transformed_data.to_sql('output',engine,index=False,if_exists='replace') \n",
        "\n",
        "#building luigi task and calling Load class\n",
        "luigi.build([Load()], local_scheduler=True)"
      ],
      "metadata": {
        "colab": {
          "base_uri": "https://localhost:8080/"
        },
        "id": "9KEyiJPaqoWp",
        "outputId": "113c55b2-64f5-4e07-80ec-9273206a1d40"
      },
      "execution_count": 36,
      "outputs": [
        {
          "output_type": "stream",
          "name": "stderr",
          "text": [
            "DEBUG: Checking if Load(date=2022-11-01) is complete\n",
            "DEBUG:luigi-interface:Checking if Load(date=2022-11-01) is complete\n",
            "/usr/local/lib/python3.7/dist-packages/luigi/worker.py:414: UserWarning: Task Load(date=2022-11-01) without outputs has no custom complete() method\n",
            "  is_complete = task.complete()\n",
            "DEBUG: Checking if Transform(date=2022-11-01) is complete\n",
            "DEBUG:luigi-interface:Checking if Transform(date=2022-11-01) is complete\n",
            "INFO: Informed scheduler that task   Load_2022_11_01_215ad7575f   has status   PENDING\n",
            "INFO:luigi-interface:Informed scheduler that task   Load_2022_11_01_215ad7575f   has status   PENDING\n",
            "DEBUG: Checking if Extract(date=2022-11-01) is complete\n",
            "DEBUG:luigi-interface:Checking if Extract(date=2022-11-01) is complete\n",
            "INFO: Informed scheduler that task   Transform_2022_11_01_215ad7575f   has status   PENDING\n",
            "INFO:luigi-interface:Informed scheduler that task   Transform_2022_11_01_215ad7575f   has status   PENDING\n",
            "INFO: Informed scheduler that task   Extract_2022_11_01_215ad7575f   has status   PENDING\n",
            "INFO:luigi-interface:Informed scheduler that task   Extract_2022_11_01_215ad7575f   has status   PENDING\n",
            "INFO: Done scheduling tasks\n",
            "INFO:luigi-interface:Done scheduling tasks\n",
            "INFO: Running Worker with 1 processes\n",
            "INFO:luigi-interface:Running Worker with 1 processes\n",
            "DEBUG: Asking scheduler for work...\n",
            "DEBUG:luigi-interface:Asking scheduler for work...\n",
            "DEBUG: Pending tasks: 3\n",
            "DEBUG:luigi-interface:Pending tasks: 3\n",
            "INFO: [pid 71] Worker Worker(salt=6806569588, workers=1, host=62ac08e6f2a3, username=root, pid=71) running   Extract(date=2022-11-01)\n",
            "INFO:luigi-interface:[pid 71] Worker Worker(salt=6806569588, workers=1, host=62ac08e6f2a3, username=root, pid=71) running   Extract(date=2022-11-01)\n",
            "INFO: [pid 71] Worker Worker(salt=6806569588, workers=1, host=62ac08e6f2a3, username=root, pid=71) done      Extract(date=2022-11-01)\n",
            "INFO:luigi-interface:[pid 71] Worker Worker(salt=6806569588, workers=1, host=62ac08e6f2a3, username=root, pid=71) done      Extract(date=2022-11-01)\n",
            "DEBUG: 1 running tasks, waiting for next task to finish\n",
            "DEBUG:luigi-interface:1 running tasks, waiting for next task to finish\n",
            "INFO: Informed scheduler that task   Extract_2022_11_01_215ad7575f   has status   DONE\n",
            "INFO:luigi-interface:Informed scheduler that task   Extract_2022_11_01_215ad7575f   has status   DONE\n",
            "DEBUG: Asking scheduler for work...\n",
            "DEBUG:luigi-interface:Asking scheduler for work...\n",
            "DEBUG: Pending tasks: 2\n",
            "DEBUG:luigi-interface:Pending tasks: 2\n",
            "INFO: [pid 71] Worker Worker(salt=6806569588, workers=1, host=62ac08e6f2a3, username=root, pid=71) running   Transform(date=2022-11-01)\n",
            "INFO:luigi-interface:[pid 71] Worker Worker(salt=6806569588, workers=1, host=62ac08e6f2a3, username=root, pid=71) running   Transform(date=2022-11-01)\n",
            "INFO: [pid 71] Worker Worker(salt=6806569588, workers=1, host=62ac08e6f2a3, username=root, pid=71) done      Transform(date=2022-11-01)\n",
            "INFO:luigi-interface:[pid 71] Worker Worker(salt=6806569588, workers=1, host=62ac08e6f2a3, username=root, pid=71) done      Transform(date=2022-11-01)\n",
            "DEBUG: 1 running tasks, waiting for next task to finish\n",
            "DEBUG:luigi-interface:1 running tasks, waiting for next task to finish\n",
            "INFO: Informed scheduler that task   Transform_2022_11_01_215ad7575f   has status   DONE\n",
            "INFO:luigi-interface:Informed scheduler that task   Transform_2022_11_01_215ad7575f   has status   DONE\n",
            "DEBUG: Asking scheduler for work...\n",
            "DEBUG:luigi-interface:Asking scheduler for work...\n",
            "DEBUG: Pending tasks: 1\n",
            "DEBUG:luigi-interface:Pending tasks: 1\n",
            "INFO: [pid 71] Worker Worker(salt=6806569588, workers=1, host=62ac08e6f2a3, username=root, pid=71) running   Load(date=2022-11-01)\n",
            "INFO:luigi-interface:[pid 71] Worker Worker(salt=6806569588, workers=1, host=62ac08e6f2a3, username=root, pid=71) running   Load(date=2022-11-01)\n",
            "INFO: [pid 71] Worker Worker(salt=6806569588, workers=1, host=62ac08e6f2a3, username=root, pid=71) done      Load(date=2022-11-01)\n",
            "INFO:luigi-interface:[pid 71] Worker Worker(salt=6806569588, workers=1, host=62ac08e6f2a3, username=root, pid=71) done      Load(date=2022-11-01)\n",
            "DEBUG: 1 running tasks, waiting for next task to finish\n",
            "DEBUG:luigi-interface:1 running tasks, waiting for next task to finish\n",
            "INFO: Informed scheduler that task   Load_2022_11_01_215ad7575f   has status   DONE\n",
            "INFO:luigi-interface:Informed scheduler that task   Load_2022_11_01_215ad7575f   has status   DONE\n",
            "DEBUG: Asking scheduler for work...\n",
            "DEBUG:luigi-interface:Asking scheduler for work...\n",
            "DEBUG: Done\n",
            "DEBUG:luigi-interface:Done\n",
            "DEBUG: There are no more tasks to run at this time\n",
            "DEBUG:luigi-interface:There are no more tasks to run at this time\n",
            "INFO: Worker Worker(salt=6806569588, workers=1, host=62ac08e6f2a3, username=root, pid=71) was stopped. Shutting down Keep-Alive thread\n",
            "INFO:luigi-interface:Worker Worker(salt=6806569588, workers=1, host=62ac08e6f2a3, username=root, pid=71) was stopped. Shutting down Keep-Alive thread\n",
            "INFO: \n",
            "===== Luigi Execution Summary =====\n",
            "\n",
            "Scheduled 3 tasks of which:\n",
            "* 3 ran successfully:\n",
            "    - 1 Extract(date=2022-11-01)\n",
            "    - 1 Load(date=2022-11-01)\n",
            "    - 1 Transform(date=2022-11-01)\n",
            "\n",
            "This progress looks :) because there were no failed tasks or missing dependencies\n",
            "\n",
            "===== Luigi Execution Summary =====\n",
            "\n",
            "INFO:luigi-interface:\n",
            "===== Luigi Execution Summary =====\n",
            "\n",
            "Scheduled 3 tasks of which:\n",
            "* 3 ran successfully:\n",
            "    - 1 Extract(date=2022-11-01)\n",
            "    - 1 Load(date=2022-11-01)\n",
            "    - 1 Transform(date=2022-11-01)\n",
            "\n",
            "This progress looks :) because there were no failed tasks or missing dependencies\n",
            "\n",
            "===== Luigi Execution Summary =====\n",
            "\n"
          ]
        },
        {
          "output_type": "execute_result",
          "data": {
            "text/plain": [
              "True"
            ]
          },
          "metadata": {},
          "execution_count": 36
        }
      ]
    },
    {
      "cell_type": "markdown",
      "source": [
        "##Checking the output table is in my.db with zero-null values"
      ],
      "metadata": {
        "id": "eOaOe16WMapY"
      }
    },
    {
      "cell_type": "code",
      "source": [
        "df=pd.read_sql('output',engine)\n",
        "print(df.isna().sum().to_string())"
      ],
      "metadata": {
        "colab": {
          "base_uri": "https://localhost:8080/"
        },
        "id": "0EqrV6tk4kyo",
        "outputId": "86571f68-4122-43b2-fd26-cef61b28b244"
      },
      "execution_count": 37,
      "outputs": [
        {
          "output_type": "stream",
          "name": "stdout",
          "text": [
            "Id               0\n",
            "MSSubClass       0\n",
            "MSZoning         0\n",
            "LotFrontage      0\n",
            "LotArea          0\n",
            "Street           0\n",
            "LotShape         0\n",
            "LandContour      0\n",
            "Utilities        0\n",
            "LotConfig        0\n",
            "LandSlope        0\n",
            "Neighborhood     0\n",
            "Condition1       0\n",
            "Condition2       0\n",
            "BldgType         0\n",
            "HouseStyle       0\n",
            "OverallQual      0\n",
            "OverallCond      0\n",
            "YearBuilt        0\n",
            "YearRemodAdd     0\n",
            "RoofStyle        0\n",
            "RoofMatl         0\n",
            "Exterior1st      0\n",
            "Exterior2nd      0\n",
            "MasVnrType       0\n",
            "MasVnrArea       0\n",
            "ExterQual        0\n",
            "ExterCond        0\n",
            "Foundation       0\n",
            "BsmtQual         0\n",
            "BsmtCond         0\n",
            "BsmtExposure     0\n",
            "BsmtFinType1     0\n",
            "BsmtFinSF1       0\n",
            "BsmtFinType2     0\n",
            "BsmtFinSF2       0\n",
            "BsmtUnfSF        0\n",
            "TotalBsmtSF      0\n",
            "Heating          0\n",
            "HeatingQC        0\n",
            "CentralAir       0\n",
            "Electrical       0\n",
            "1stFlrSF         0\n",
            "2ndFlrSF         0\n",
            "LowQualFinSF     0\n",
            "GrLivArea        0\n",
            "BsmtFullBath     0\n",
            "BsmtHalfBath     0\n",
            "FullBath         0\n",
            "HalfBath         0\n",
            "BedroomAbvGr     0\n",
            "KitchenAbvGr     0\n",
            "KitchenQual      0\n",
            "TotRmsAbvGrd     0\n",
            "Functional       0\n",
            "Fireplaces       0\n",
            "FireplaceQu      0\n",
            "GarageType       0\n",
            "GarageYrBlt      0\n",
            "GarageFinish     0\n",
            "GarageCars       0\n",
            "GarageArea       0\n",
            "GarageQual       0\n",
            "GarageCond       0\n",
            "PavedDrive       0\n",
            "WoodDeckSF       0\n",
            "OpenPorchSF      0\n",
            "EnclosedPorch    0\n",
            "3SsnPorch        0\n",
            "ScreenPorch      0\n",
            "PoolArea         0\n",
            "MiscVal          0\n",
            "MoSold           0\n",
            "YrSold           0\n",
            "SaleType         0\n",
            "SaleCondition    0\n",
            "SalePrice        0\n"
          ]
        }
      ]
    }
  ]
}